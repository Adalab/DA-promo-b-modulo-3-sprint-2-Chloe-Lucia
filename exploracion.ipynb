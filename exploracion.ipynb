{
 "cells": [
  {
   "cell_type": "code",
   "execution_count": 4,
   "metadata": {},
   "outputs": [
    {
     "name": "stdout",
     "output_type": "stream",
     "text": [
      "Requirement already satisfied: pygbif in /home/chloeiris/anaconda3/lib/python3.9/site-packages (0.6.1)\n",
      "Requirement already satisfied: appdirs>=1.4.3 in /home/chloeiris/anaconda3/lib/python3.9/site-packages (from pygbif) (1.4.4)\n",
      "Requirement already satisfied: requests-cache in /home/chloeiris/anaconda3/lib/python3.9/site-packages (from pygbif) (0.9.6)\n",
      "Requirement already satisfied: geomet in /home/chloeiris/anaconda3/lib/python3.9/site-packages (from pygbif) (0.3.0)\n",
      "Requirement already satisfied: requests>2.7 in /home/chloeiris/anaconda3/lib/python3.9/site-packages (from pygbif) (2.26.0)\n",
      "Requirement already satisfied: matplotlib in /home/chloeiris/anaconda3/lib/python3.9/site-packages (from pygbif) (3.5.0)\n",
      "Requirement already satisfied: geojson-rewind in /home/chloeiris/anaconda3/lib/python3.9/site-packages (from pygbif) (1.0.3)\n",
      "Requirement already satisfied: urllib3<1.27,>=1.21.1 in /home/chloeiris/anaconda3/lib/python3.9/site-packages (from requests>2.7->pygbif) (1.26.7)\n",
      "Requirement already satisfied: certifi>=2017.4.17 in /home/chloeiris/anaconda3/lib/python3.9/site-packages (from requests>2.7->pygbif) (2021.10.8)\n",
      "Requirement already satisfied: charset-normalizer~=2.0.0 in /home/chloeiris/anaconda3/lib/python3.9/site-packages (from requests>2.7->pygbif) (2.0.4)\n",
      "Requirement already satisfied: idna<4,>=2.5 in /home/chloeiris/anaconda3/lib/python3.9/site-packages (from requests>2.7->pygbif) (3.2)\n",
      "Requirement already satisfied: click in /home/chloeiris/anaconda3/lib/python3.9/site-packages (from geomet->pygbif) (8.0.3)\n",
      "Requirement already satisfied: six in /home/chloeiris/anaconda3/lib/python3.9/site-packages (from geomet->pygbif) (1.16.0)\n",
      "Requirement already satisfied: python-dateutil>=2.7 in /home/chloeiris/anaconda3/lib/python3.9/site-packages (from matplotlib->pygbif) (2.8.2)\n",
      "Requirement already satisfied: pyparsing>=2.2.1 in /home/chloeiris/anaconda3/lib/python3.9/site-packages (from matplotlib->pygbif) (3.0.4)\n",
      "Requirement already satisfied: pillow>=6.2.0 in /home/chloeiris/anaconda3/lib/python3.9/site-packages (from matplotlib->pygbif) (8.4.0)\n",
      "Requirement already satisfied: fonttools>=4.22.0 in /home/chloeiris/anaconda3/lib/python3.9/site-packages (from matplotlib->pygbif) (4.25.0)\n",
      "Requirement already satisfied: packaging>=20.0 in /home/chloeiris/anaconda3/lib/python3.9/site-packages (from matplotlib->pygbif) (21.0)\n",
      "Requirement already satisfied: setuptools-scm>=4 in /home/chloeiris/anaconda3/lib/python3.9/site-packages (from matplotlib->pygbif) (7.0.5)\n",
      "Requirement already satisfied: cycler>=0.10 in /home/chloeiris/anaconda3/lib/python3.9/site-packages (from matplotlib->pygbif) (0.10.0)\n",
      "Requirement already satisfied: numpy>=1.17 in /home/chloeiris/anaconda3/lib/python3.9/site-packages (from matplotlib->pygbif) (1.20.3)\n",
      "Requirement already satisfied: kiwisolver>=1.0.1 in /home/chloeiris/anaconda3/lib/python3.9/site-packages (from matplotlib->pygbif) (1.3.1)\n",
      "Requirement already satisfied: tomli>=1.0.0 in /home/chloeiris/anaconda3/lib/python3.9/site-packages (from setuptools-scm>=4->matplotlib->pygbif) (2.0.1)\n",
      "Requirement already satisfied: typing-extensions in /home/chloeiris/anaconda3/lib/python3.9/site-packages (from setuptools-scm>=4->matplotlib->pygbif) (3.10.0.2)\n",
      "Requirement already satisfied: setuptools in /home/chloeiris/anaconda3/lib/python3.9/site-packages (from setuptools-scm>=4->matplotlib->pygbif) (58.0.4)\n",
      "Requirement already satisfied: attrs>=21.2 in /home/chloeiris/anaconda3/lib/python3.9/site-packages (from requests-cache->pygbif) (21.2.0)\n",
      "Requirement already satisfied: url-normalize>=1.4 in /home/chloeiris/anaconda3/lib/python3.9/site-packages (from requests-cache->pygbif) (1.4.3)\n",
      "Requirement already satisfied: cattrs>=1.8 in /home/chloeiris/anaconda3/lib/python3.9/site-packages (from requests-cache->pygbif) (22.2.0)\n",
      "Requirement already satisfied: exceptiongroup in /home/chloeiris/anaconda3/lib/python3.9/site-packages (from cattrs>=1.8->requests-cache->pygbif) (1.0.0rc9)\n"
     ]
    }
   ],
   "source": [
    "! pip install pygbif"
   ]
  },
  {
   "cell_type": "code",
   "execution_count": 5,
   "metadata": {},
   "outputs": [],
   "source": [
    "# Tratamiento de datos\n",
    "# ------------------------------------------------------------------------\n",
    "import pandas as pd\n",
    "import numpy as np\n",
    "\n",
    "# Gráficos\n",
    "# ------------------------------------------------------------------------\n",
    "import matplotlib.pyplot as plt\n",
    "import seaborn as sns\n",
    "plt.rcParams[\"figure.figsize\"] = (10,8) \n",
    "\n",
    "# Bio geolocalización\n",
    "# ------------------------------------------------------------------------\n",
    "import pygbif \n",
    "\n",
    "# Preferencias\n",
    "# ------------------------------------------------------------------------\n",
    "pd.options.display.max_rows = None"
   ]
  },
  {
   "cell_type": "code",
   "execution_count": 6,
   "metadata": {},
   "outputs": [
    {
     "data": {
      "text/html": [
       "<div>\n",
       "<style scoped>\n",
       "    .dataframe tbody tr th:only-of-type {\n",
       "        vertical-align: middle;\n",
       "    }\n",
       "\n",
       "    .dataframe tbody tr th {\n",
       "        vertical-align: top;\n",
       "    }\n",
       "\n",
       "    .dataframe thead th {\n",
       "        text-align: right;\n",
       "    }\n",
       "</style>\n",
       "<table border=\"1\" class=\"dataframe\">\n",
       "  <thead>\n",
       "    <tr style=\"text-align: right;\">\n",
       "      <th></th>\n",
       "      <th>Park Code</th>\n",
       "      <th>Park Name</th>\n",
       "      <th>State</th>\n",
       "      <th>Acres</th>\n",
       "      <th>Latitude</th>\n",
       "      <th>Longitude</th>\n",
       "    </tr>\n",
       "  </thead>\n",
       "  <tbody>\n",
       "    <tr>\n",
       "      <th>0</th>\n",
       "      <td>ACAD</td>\n",
       "      <td>Acadia National Park</td>\n",
       "      <td>ME</td>\n",
       "      <td>47390</td>\n",
       "      <td>44.35</td>\n",
       "      <td>-68.21</td>\n",
       "    </tr>\n",
       "    <tr>\n",
       "      <th>1</th>\n",
       "      <td>ARCH</td>\n",
       "      <td>Arches National Park</td>\n",
       "      <td>UT</td>\n",
       "      <td>76519</td>\n",
       "      <td>38.68</td>\n",
       "      <td>-109.57</td>\n",
       "    </tr>\n",
       "    <tr>\n",
       "      <th>2</th>\n",
       "      <td>BADL</td>\n",
       "      <td>Badlands National Park</td>\n",
       "      <td>SD</td>\n",
       "      <td>242756</td>\n",
       "      <td>43.75</td>\n",
       "      <td>-102.50</td>\n",
       "    </tr>\n",
       "    <tr>\n",
       "      <th>3</th>\n",
       "      <td>BIBE</td>\n",
       "      <td>Big Bend National Park</td>\n",
       "      <td>TX</td>\n",
       "      <td>801163</td>\n",
       "      <td>29.25</td>\n",
       "      <td>-103.25</td>\n",
       "    </tr>\n",
       "    <tr>\n",
       "      <th>4</th>\n",
       "      <td>BISC</td>\n",
       "      <td>Biscayne National Park</td>\n",
       "      <td>FL</td>\n",
       "      <td>172924</td>\n",
       "      <td>25.65</td>\n",
       "      <td>-80.08</td>\n",
       "    </tr>\n",
       "  </tbody>\n",
       "</table>\n",
       "</div>"
      ],
      "text/plain": [
       "  Park Code               Park Name State   Acres  Latitude  Longitude\n",
       "0      ACAD    Acadia National Park    ME   47390     44.35     -68.21\n",
       "1      ARCH    Arches National Park    UT   76519     38.68    -109.57\n",
       "2      BADL  Badlands National Park    SD  242756     43.75    -102.50\n",
       "3      BIBE  Big Bend National Park    TX  801163     29.25    -103.25\n",
       "4      BISC  Biscayne National Park    FL  172924     25.65     -80.08"
      ]
     },
     "execution_count": 6,
     "metadata": {},
     "output_type": "execute_result"
    }
   ],
   "source": [
    "df1 = pd.read_csv('archive/parks.csv')\n",
    "df1.head()"
   ]
  },
  {
   "cell_type": "code",
   "execution_count": 7,
   "metadata": {},
   "outputs": [
    {
     "data": {
      "text/plain": [
       "Park Code    0\n",
       "Park Name    0\n",
       "State        0\n",
       "Acres        0\n",
       "Latitude     0\n",
       "Longitude    0\n",
       "dtype: int64"
      ]
     },
     "execution_count": 7,
     "metadata": {},
     "output_type": "execute_result"
    }
   ],
   "source": [
    "df1.isnull().sum()"
   ]
  },
  {
   "cell_type": "code",
   "execution_count": 8,
   "metadata": {},
   "outputs": [
    {
     "data": {
      "text/plain": [
       "(56, 6)"
      ]
     },
     "execution_count": 8,
     "metadata": {},
     "output_type": "execute_result"
    }
   ],
   "source": [
    "df1.shape"
   ]
  },
  {
   "cell_type": "code",
   "execution_count": 9,
   "metadata": {},
   "outputs": [
    {
     "name": "stderr",
     "output_type": "stream",
     "text": [
      "/tmp/ipykernel_1705/2082570300.py:1: DtypeWarning: Columns (13) have mixed types. Specify dtype option on import or set low_memory=False.\n",
      "  df2 = pd.read_csv('archive/species.csv')\n"
     ]
    },
    {
     "data": {
      "text/html": [
       "<div>\n",
       "<style scoped>\n",
       "    .dataframe tbody tr th:only-of-type {\n",
       "        vertical-align: middle;\n",
       "    }\n",
       "\n",
       "    .dataframe tbody tr th {\n",
       "        vertical-align: top;\n",
       "    }\n",
       "\n",
       "    .dataframe thead th {\n",
       "        text-align: right;\n",
       "    }\n",
       "</style>\n",
       "<table border=\"1\" class=\"dataframe\">\n",
       "  <thead>\n",
       "    <tr style=\"text-align: right;\">\n",
       "      <th></th>\n",
       "      <th>Species ID</th>\n",
       "      <th>Park Name</th>\n",
       "      <th>Category</th>\n",
       "      <th>Order</th>\n",
       "      <th>Family</th>\n",
       "      <th>Scientific Name</th>\n",
       "      <th>Common Names</th>\n",
       "      <th>Record Status</th>\n",
       "      <th>Occurrence</th>\n",
       "      <th>Nativeness</th>\n",
       "      <th>Abundance</th>\n",
       "      <th>Seasonality</th>\n",
       "      <th>Conservation Status</th>\n",
       "      <th>Unnamed: 13</th>\n",
       "    </tr>\n",
       "  </thead>\n",
       "  <tbody>\n",
       "    <tr>\n",
       "      <th>0</th>\n",
       "      <td>ACAD-1000</td>\n",
       "      <td>Acadia National Park</td>\n",
       "      <td>Mammal</td>\n",
       "      <td>Artiodactyla</td>\n",
       "      <td>Cervidae</td>\n",
       "      <td>Alces alces</td>\n",
       "      <td>Moose</td>\n",
       "      <td>Approved</td>\n",
       "      <td>Present</td>\n",
       "      <td>Native</td>\n",
       "      <td>Rare</td>\n",
       "      <td>Resident</td>\n",
       "      <td>NaN</td>\n",
       "      <td>NaN</td>\n",
       "    </tr>\n",
       "    <tr>\n",
       "      <th>1</th>\n",
       "      <td>ACAD-1001</td>\n",
       "      <td>Acadia National Park</td>\n",
       "      <td>Mammal</td>\n",
       "      <td>Artiodactyla</td>\n",
       "      <td>Cervidae</td>\n",
       "      <td>Odocoileus virginianus</td>\n",
       "      <td>Northern White-Tailed Deer, Virginia Deer, Whi...</td>\n",
       "      <td>Approved</td>\n",
       "      <td>Present</td>\n",
       "      <td>Native</td>\n",
       "      <td>Abundant</td>\n",
       "      <td>NaN</td>\n",
       "      <td>NaN</td>\n",
       "      <td>NaN</td>\n",
       "    </tr>\n",
       "    <tr>\n",
       "      <th>2</th>\n",
       "      <td>ACAD-1002</td>\n",
       "      <td>Acadia National Park</td>\n",
       "      <td>Mammal</td>\n",
       "      <td>Carnivora</td>\n",
       "      <td>Canidae</td>\n",
       "      <td>Canis latrans</td>\n",
       "      <td>Coyote, Eastern Coyote</td>\n",
       "      <td>Approved</td>\n",
       "      <td>Present</td>\n",
       "      <td>Not Native</td>\n",
       "      <td>Common</td>\n",
       "      <td>NaN</td>\n",
       "      <td>Species of Concern</td>\n",
       "      <td>NaN</td>\n",
       "    </tr>\n",
       "    <tr>\n",
       "      <th>3</th>\n",
       "      <td>ACAD-1003</td>\n",
       "      <td>Acadia National Park</td>\n",
       "      <td>Mammal</td>\n",
       "      <td>Carnivora</td>\n",
       "      <td>Canidae</td>\n",
       "      <td>Canis lupus</td>\n",
       "      <td>Eastern Timber Wolf, Gray Wolf, Timber Wolf</td>\n",
       "      <td>Approved</td>\n",
       "      <td>Not Confirmed</td>\n",
       "      <td>Native</td>\n",
       "      <td>NaN</td>\n",
       "      <td>NaN</td>\n",
       "      <td>Endangered</td>\n",
       "      <td>NaN</td>\n",
       "    </tr>\n",
       "    <tr>\n",
       "      <th>4</th>\n",
       "      <td>ACAD-1004</td>\n",
       "      <td>Acadia National Park</td>\n",
       "      <td>Mammal</td>\n",
       "      <td>Carnivora</td>\n",
       "      <td>Canidae</td>\n",
       "      <td>Vulpes vulpes</td>\n",
       "      <td>Black Fox, Cross Fox, Eastern Red Fox, Fox, Re...</td>\n",
       "      <td>Approved</td>\n",
       "      <td>Present</td>\n",
       "      <td>Unknown</td>\n",
       "      <td>Common</td>\n",
       "      <td>Breeder</td>\n",
       "      <td>NaN</td>\n",
       "      <td>NaN</td>\n",
       "    </tr>\n",
       "  </tbody>\n",
       "</table>\n",
       "</div>"
      ],
      "text/plain": [
       "  Species ID             Park Name Category         Order    Family  \\\n",
       "0  ACAD-1000  Acadia National Park   Mammal  Artiodactyla  Cervidae   \n",
       "1  ACAD-1001  Acadia National Park   Mammal  Artiodactyla  Cervidae   \n",
       "2  ACAD-1002  Acadia National Park   Mammal     Carnivora   Canidae   \n",
       "3  ACAD-1003  Acadia National Park   Mammal     Carnivora   Canidae   \n",
       "4  ACAD-1004  Acadia National Park   Mammal     Carnivora   Canidae   \n",
       "\n",
       "          Scientific Name                                       Common Names  \\\n",
       "0             Alces alces                                              Moose   \n",
       "1  Odocoileus virginianus  Northern White-Tailed Deer, Virginia Deer, Whi...   \n",
       "2           Canis latrans                             Coyote, Eastern Coyote   \n",
       "3             Canis lupus        Eastern Timber Wolf, Gray Wolf, Timber Wolf   \n",
       "4           Vulpes vulpes  Black Fox, Cross Fox, Eastern Red Fox, Fox, Re...   \n",
       "\n",
       "  Record Status     Occurrence  Nativeness Abundance Seasonality  \\\n",
       "0      Approved        Present      Native      Rare    Resident   \n",
       "1      Approved        Present      Native  Abundant         NaN   \n",
       "2      Approved        Present  Not Native    Common         NaN   \n",
       "3      Approved  Not Confirmed      Native       NaN         NaN   \n",
       "4      Approved        Present     Unknown    Common     Breeder   \n",
       "\n",
       "  Conservation Status Unnamed: 13  \n",
       "0                 NaN         NaN  \n",
       "1                 NaN         NaN  \n",
       "2  Species of Concern         NaN  \n",
       "3          Endangered         NaN  \n",
       "4                 NaN         NaN  "
      ]
     },
     "execution_count": 9,
     "metadata": {},
     "output_type": "execute_result"
    }
   ],
   "source": [
    "df2 = pd.read_csv('archive/species.csv')\n",
    "df2.head()"
   ]
  },
  {
   "cell_type": "code",
   "execution_count": 10,
   "metadata": {},
   "outputs": [
    {
     "data": {
      "text/plain": [
       "Species ID                  0\n",
       "Park Name                   0\n",
       "Category                    0\n",
       "Order                    1472\n",
       "Family                   1512\n",
       "Scientific Name             0\n",
       "Common Names                0\n",
       "Record Status               0\n",
       "Occurrence              20142\n",
       "Nativeness              25045\n",
       "Abundance               42942\n",
       "Seasonality             99091\n",
       "Conservation Status    114530\n",
       "Unnamed: 13            119243\n",
       "dtype: int64"
      ]
     },
     "execution_count": 10,
     "metadata": {},
     "output_type": "execute_result"
    }
   ],
   "source": [
    "df2.isnull().sum()"
   ]
  },
  {
   "cell_type": "code",
   "execution_count": 11,
   "metadata": {},
   "outputs": [
    {
     "data": {
      "text/plain": [
       "(119248, 14)"
      ]
     },
     "execution_count": 11,
     "metadata": {},
     "output_type": "execute_result"
    }
   ],
   "source": [
    "df2.shape"
   ]
  },
  {
   "cell_type": "code",
   "execution_count": 12,
   "metadata": {},
   "outputs": [
    {
     "data": {
      "text/plain": [
       "array(['Mammal', 'Bird', 'Reptile', 'Amphibian', 'Fish', 'Vascular Plant',\n",
       "       'Spider/Scorpion', 'Insect', 'Invertebrate', 'Fungi',\n",
       "       'Nonvascular Plant', 'Crab/Lobster/Shrimp', 'Slug/Snail', 'Algae'],\n",
       "      dtype=object)"
      ]
     },
     "execution_count": 12,
     "metadata": {},
     "output_type": "execute_result"
    }
   ],
   "source": [
    "df2.Category.unique()"
   ]
  },
  {
   "cell_type": "code",
   "execution_count": 13,
   "metadata": {},
   "outputs": [],
   "source": [
    "cnidarios = df2[df2['Category']== 'Invertebrate']"
   ]
  },
  {
   "cell_type": "code",
   "execution_count": 14,
   "metadata": {},
   "outputs": [
    {
     "data": {
      "text/html": [
       "<div>\n",
       "<style scoped>\n",
       "    .dataframe tbody tr th:only-of-type {\n",
       "        vertical-align: middle;\n",
       "    }\n",
       "\n",
       "    .dataframe tbody tr th {\n",
       "        vertical-align: top;\n",
       "    }\n",
       "\n",
       "    .dataframe thead th {\n",
       "        text-align: right;\n",
       "    }\n",
       "</style>\n",
       "<table border=\"1\" class=\"dataframe\">\n",
       "  <thead>\n",
       "    <tr style=\"text-align: right;\">\n",
       "      <th></th>\n",
       "      <th>Species ID</th>\n",
       "      <th>Park Name</th>\n",
       "      <th>Category</th>\n",
       "      <th>Order</th>\n",
       "      <th>Family</th>\n",
       "      <th>Scientific Name</th>\n",
       "      <th>Common Names</th>\n",
       "      <th>Record Status</th>\n",
       "      <th>Occurrence</th>\n",
       "      <th>Nativeness</th>\n",
       "      <th>Abundance</th>\n",
       "      <th>Seasonality</th>\n",
       "      <th>Conservation Status</th>\n",
       "      <th>Unnamed: 13</th>\n",
       "    </tr>\n",
       "  </thead>\n",
       "  <tbody>\n",
       "    <tr>\n",
       "      <th>3972</th>\n",
       "      <td>BADL-2215</td>\n",
       "      <td>Badlands National Park</td>\n",
       "      <td>Invertebrate</td>\n",
       "      <td>Stauromedusae</td>\n",
       "      <td>Lipkeidae</td>\n",
       "      <td>Capria</td>\n",
       "      <td>Feral Goats</td>\n",
       "      <td>In Review</td>\n",
       "      <td>Present</td>\n",
       "      <td>NaN</td>\n",
       "      <td>NaN</td>\n",
       "      <td>NaN</td>\n",
       "      <td>NaN</td>\n",
       "      <td>NaN</td>\n",
       "    </tr>\n",
       "    <tr>\n",
       "      <th>8107</th>\n",
       "      <td>BISC-2692</td>\n",
       "      <td>Biscayne National Park</td>\n",
       "      <td>Invertebrate</td>\n",
       "      <td>NaN</td>\n",
       "      <td>NaN</td>\n",
       "      <td>Madracis auretenra</td>\n",
       "      <td>Ten-Ray Star Coral</td>\n",
       "      <td>Approved</td>\n",
       "      <td>Present</td>\n",
       "      <td>Native</td>\n",
       "      <td>Rare</td>\n",
       "      <td>NaN</td>\n",
       "      <td>NaN</td>\n",
       "      <td>NaN</td>\n",
       "    </tr>\n",
       "    <tr>\n",
       "      <th>8108</th>\n",
       "      <td>BISC-2693</td>\n",
       "      <td>Biscayne National Park</td>\n",
       "      <td>Invertebrate</td>\n",
       "      <td>NaN</td>\n",
       "      <td>NaN</td>\n",
       "      <td>Pseudodiploria clivosa</td>\n",
       "      <td>Knobby Brain Coral</td>\n",
       "      <td>Approved</td>\n",
       "      <td>Present</td>\n",
       "      <td>Native</td>\n",
       "      <td>Occasional</td>\n",
       "      <td>NaN</td>\n",
       "      <td>NaN</td>\n",
       "      <td>NaN</td>\n",
       "    </tr>\n",
       "    <tr>\n",
       "      <th>8109</th>\n",
       "      <td>BISC-2694</td>\n",
       "      <td>Biscayne National Park</td>\n",
       "      <td>Invertebrate</td>\n",
       "      <td>NaN</td>\n",
       "      <td>NaN</td>\n",
       "      <td>Pseudodiploria strigosa</td>\n",
       "      <td>Symmetrical Brain Coral</td>\n",
       "      <td>Approved</td>\n",
       "      <td>Present</td>\n",
       "      <td>Native</td>\n",
       "      <td>Uncommon</td>\n",
       "      <td>NaN</td>\n",
       "      <td>NaN</td>\n",
       "      <td>NaN</td>\n",
       "    </tr>\n",
       "    <tr>\n",
       "      <th>8110</th>\n",
       "      <td>BISC-2695</td>\n",
       "      <td>Biscayne National Park</td>\n",
       "      <td>Invertebrate</td>\n",
       "      <td>NaN</td>\n",
       "      <td>NaN</td>\n",
       "      <td>Undaria agaricites</td>\n",
       "      <td>Lettuce Coral</td>\n",
       "      <td>Approved</td>\n",
       "      <td>Present</td>\n",
       "      <td>Native</td>\n",
       "      <td>Common</td>\n",
       "      <td>NaN</td>\n",
       "      <td>NaN</td>\n",
       "      <td>NaN</td>\n",
       "    </tr>\n",
       "  </tbody>\n",
       "</table>\n",
       "</div>"
      ],
      "text/plain": [
       "     Species ID               Park Name      Category          Order  \\\n",
       "3972  BADL-2215  Badlands National Park  Invertebrate  Stauromedusae   \n",
       "8107  BISC-2692  Biscayne National Park  Invertebrate            NaN   \n",
       "8108  BISC-2693  Biscayne National Park  Invertebrate            NaN   \n",
       "8109  BISC-2694  Biscayne National Park  Invertebrate            NaN   \n",
       "8110  BISC-2695  Biscayne National Park  Invertebrate            NaN   \n",
       "\n",
       "         Family          Scientific Name             Common Names  \\\n",
       "3972  Lipkeidae                   Capria              Feral Goats   \n",
       "8107        NaN       Madracis auretenra       Ten-Ray Star Coral   \n",
       "8108        NaN   Pseudodiploria clivosa       Knobby Brain Coral   \n",
       "8109        NaN  Pseudodiploria strigosa  Symmetrical Brain Coral   \n",
       "8110        NaN       Undaria agaricites            Lettuce Coral   \n",
       "\n",
       "     Record Status Occurrence Nativeness   Abundance Seasonality  \\\n",
       "3972     In Review    Present        NaN         NaN         NaN   \n",
       "8107      Approved    Present     Native        Rare         NaN   \n",
       "8108      Approved    Present     Native  Occasional         NaN   \n",
       "8109      Approved    Present     Native    Uncommon         NaN   \n",
       "8110      Approved    Present     Native      Common         NaN   \n",
       "\n",
       "     Conservation Status Unnamed: 13  \n",
       "3972                 NaN         NaN  \n",
       "8107                 NaN         NaN  \n",
       "8108                 NaN         NaN  \n",
       "8109                 NaN         NaN  \n",
       "8110                 NaN         NaN  "
      ]
     },
     "execution_count": 14,
     "metadata": {},
     "output_type": "execute_result"
    }
   ],
   "source": [
    "cnidarios.head()"
   ]
  },
  {
   "cell_type": "code",
   "execution_count": 15,
   "metadata": {},
   "outputs": [
    {
     "data": {
      "text/plain": [
       "(1566, 14)"
      ]
     },
     "execution_count": 15,
     "metadata": {},
     "output_type": "execute_result"
    }
   ],
   "source": [
    "cnidarios.shape"
   ]
  },
  {
   "cell_type": "code",
   "execution_count": 16,
   "metadata": {},
   "outputs": [],
   "source": [
    "df2.drop('Unnamed: 13', axis=1, inplace=True)"
   ]
  },
  {
   "cell_type": "code",
   "execution_count": 17,
   "metadata": {},
   "outputs": [
    {
     "data": {
      "text/plain": [
       "Present                            83278\n",
       "Not Confirmed                      11958\n",
       "Not Present (False Report)          2072\n",
       "Not Present (Historical Report)     1310\n",
       "Not Present                          431\n",
       "Approved                              51\n",
       "In Review                              6\n",
       "Name: Occurrence, dtype: int64"
      ]
     },
     "execution_count": 17,
     "metadata": {},
     "output_type": "execute_result"
    }
   ],
   "source": [
    "df2['Occurrence'].value_counts()"
   ]
  },
  {
   "cell_type": "code",
   "execution_count": 18,
   "metadata": {},
   "outputs": [
    {
     "data": {
      "text/plain": [
       "Native           75950\n",
       "Not Native       11095\n",
       "Unknown           7101\n",
       "Present             53\n",
       "Not Confirmed        4\n",
       "Name: Nativeness, dtype: int64"
      ]
     },
     "execution_count": 18,
     "metadata": {},
     "output_type": "execute_result"
    }
   ],
   "source": [
    "df2['Nativeness'].value_counts()"
   ]
  },
  {
   "cell_type": "code",
   "execution_count": 19,
   "metadata": {},
   "outputs": [
    {
     "data": {
      "text/plain": [
       "Unknown       28119\n",
       "Uncommon      18779\n",
       "Common        12913\n",
       "Rare          10768\n",
       "Occasional     3312\n",
       "Abundant       2365\n",
       "Native           40\n",
       "Not Native       10\n",
       "Name: Abundance, dtype: int64"
      ]
     },
     "execution_count": 19,
     "metadata": {},
     "output_type": "execute_result"
    }
   ],
   "source": [
    "df2['Abundance'].value_counts()"
   ]
  },
  {
   "cell_type": "code",
   "execution_count": 20,
   "metadata": {},
   "outputs": [
    {
     "data": {
      "text/plain": [
       "Breeder                                 12214\n",
       "Resident                                 3215\n",
       "Migratory                                2825\n",
       "Vagrant                                  1660\n",
       "Breeder, Winter                            64\n",
       "Rare                                       35\n",
       "Summer                                     26\n",
       "Migratory, Winter                          24\n",
       "Winter                                     20\n",
       "Breeder, Resident                          20\n",
       "Breeder, Migratory                         13\n",
       "Resident, Winter                            9\n",
       "Uncommon                                    5\n",
       "Common                                      4\n",
       "Migratory, Vagrant                          4\n",
       "Summer, Vagrant                             3\n",
       "Breeder, Resident, Summer                   3\n",
       "Migratory, Summer                           3\n",
       "Unknown                                     3\n",
       "Resident, Summer                            2\n",
       "Breeder, Summer                             2\n",
       "Breeder, Resident, Migratory, Summer        1\n",
       "Breeder, Resident, Summer, Winter           1\n",
       "Winter, Vagrant                             1\n",
       "Name: Seasonality, dtype: int64"
      ]
     },
     "execution_count": 20,
     "metadata": {},
     "output_type": "execute_result"
    }
   ],
   "source": [
    "df2['Seasonality'].value_counts()"
   ]
  },
  {
   "cell_type": "code",
   "execution_count": 21,
   "metadata": {},
   "outputs": [
    {
     "data": {
      "text/plain": [
       "Species of Concern     3843\n",
       "Endangered              374\n",
       "Under Review            194\n",
       "Threatened              184\n",
       "In Recovery              77\n",
       "Proposed Endangered      24\n",
       "Proposed Threatened       7\n",
       "Breeder                   7\n",
       "Resident                  5\n",
       "Migratory                 2\n",
       "Extinct                   1\n",
       "Name: Conservation Status, dtype: int64"
      ]
     },
     "execution_count": 21,
     "metadata": {},
     "output_type": "execute_result"
    }
   ],
   "source": [
    "df2['Conservation Status'].value_counts()"
   ]
  },
  {
   "cell_type": "code",
   "execution_count": 23,
   "metadata": {},
   "outputs": [],
   "source": [
    "df3 = df2.merge(df1, on='Park Name', how='left')"
   ]
  },
  {
   "cell_type": "code",
   "execution_count": 24,
   "metadata": {},
   "outputs": [
    {
     "data": {
      "text/html": [
       "<div>\n",
       "<style scoped>\n",
       "    .dataframe tbody tr th:only-of-type {\n",
       "        vertical-align: middle;\n",
       "    }\n",
       "\n",
       "    .dataframe tbody tr th {\n",
       "        vertical-align: top;\n",
       "    }\n",
       "\n",
       "    .dataframe thead th {\n",
       "        text-align: right;\n",
       "    }\n",
       "</style>\n",
       "<table border=\"1\" class=\"dataframe\">\n",
       "  <thead>\n",
       "    <tr style=\"text-align: right;\">\n",
       "      <th></th>\n",
       "      <th>Species ID</th>\n",
       "      <th>Park Name</th>\n",
       "      <th>Category</th>\n",
       "      <th>Order</th>\n",
       "      <th>Family</th>\n",
       "      <th>Scientific Name</th>\n",
       "      <th>Common Names</th>\n",
       "      <th>Record Status</th>\n",
       "      <th>Occurrence</th>\n",
       "      <th>Nativeness</th>\n",
       "      <th>Abundance</th>\n",
       "      <th>Seasonality</th>\n",
       "      <th>Conservation Status</th>\n",
       "      <th>Park Code</th>\n",
       "      <th>State</th>\n",
       "      <th>Acres</th>\n",
       "      <th>Latitude</th>\n",
       "      <th>Longitude</th>\n",
       "    </tr>\n",
       "  </thead>\n",
       "  <tbody>\n",
       "    <tr>\n",
       "      <th>0</th>\n",
       "      <td>ACAD-1000</td>\n",
       "      <td>Acadia National Park</td>\n",
       "      <td>Mammal</td>\n",
       "      <td>Artiodactyla</td>\n",
       "      <td>Cervidae</td>\n",
       "      <td>Alces alces</td>\n",
       "      <td>Moose</td>\n",
       "      <td>Approved</td>\n",
       "      <td>Present</td>\n",
       "      <td>Native</td>\n",
       "      <td>Rare</td>\n",
       "      <td>Resident</td>\n",
       "      <td>NaN</td>\n",
       "      <td>ACAD</td>\n",
       "      <td>ME</td>\n",
       "      <td>47390</td>\n",
       "      <td>44.35</td>\n",
       "      <td>-68.21</td>\n",
       "    </tr>\n",
       "    <tr>\n",
       "      <th>1</th>\n",
       "      <td>ACAD-1001</td>\n",
       "      <td>Acadia National Park</td>\n",
       "      <td>Mammal</td>\n",
       "      <td>Artiodactyla</td>\n",
       "      <td>Cervidae</td>\n",
       "      <td>Odocoileus virginianus</td>\n",
       "      <td>Northern White-Tailed Deer, Virginia Deer, Whi...</td>\n",
       "      <td>Approved</td>\n",
       "      <td>Present</td>\n",
       "      <td>Native</td>\n",
       "      <td>Abundant</td>\n",
       "      <td>NaN</td>\n",
       "      <td>NaN</td>\n",
       "      <td>ACAD</td>\n",
       "      <td>ME</td>\n",
       "      <td>47390</td>\n",
       "      <td>44.35</td>\n",
       "      <td>-68.21</td>\n",
       "    </tr>\n",
       "    <tr>\n",
       "      <th>2</th>\n",
       "      <td>ACAD-1002</td>\n",
       "      <td>Acadia National Park</td>\n",
       "      <td>Mammal</td>\n",
       "      <td>Carnivora</td>\n",
       "      <td>Canidae</td>\n",
       "      <td>Canis latrans</td>\n",
       "      <td>Coyote, Eastern Coyote</td>\n",
       "      <td>Approved</td>\n",
       "      <td>Present</td>\n",
       "      <td>Not Native</td>\n",
       "      <td>Common</td>\n",
       "      <td>NaN</td>\n",
       "      <td>Species of Concern</td>\n",
       "      <td>ACAD</td>\n",
       "      <td>ME</td>\n",
       "      <td>47390</td>\n",
       "      <td>44.35</td>\n",
       "      <td>-68.21</td>\n",
       "    </tr>\n",
       "    <tr>\n",
       "      <th>3</th>\n",
       "      <td>ACAD-1003</td>\n",
       "      <td>Acadia National Park</td>\n",
       "      <td>Mammal</td>\n",
       "      <td>Carnivora</td>\n",
       "      <td>Canidae</td>\n",
       "      <td>Canis lupus</td>\n",
       "      <td>Eastern Timber Wolf, Gray Wolf, Timber Wolf</td>\n",
       "      <td>Approved</td>\n",
       "      <td>Not Confirmed</td>\n",
       "      <td>Native</td>\n",
       "      <td>NaN</td>\n",
       "      <td>NaN</td>\n",
       "      <td>Endangered</td>\n",
       "      <td>ACAD</td>\n",
       "      <td>ME</td>\n",
       "      <td>47390</td>\n",
       "      <td>44.35</td>\n",
       "      <td>-68.21</td>\n",
       "    </tr>\n",
       "    <tr>\n",
       "      <th>4</th>\n",
       "      <td>ACAD-1004</td>\n",
       "      <td>Acadia National Park</td>\n",
       "      <td>Mammal</td>\n",
       "      <td>Carnivora</td>\n",
       "      <td>Canidae</td>\n",
       "      <td>Vulpes vulpes</td>\n",
       "      <td>Black Fox, Cross Fox, Eastern Red Fox, Fox, Re...</td>\n",
       "      <td>Approved</td>\n",
       "      <td>Present</td>\n",
       "      <td>Unknown</td>\n",
       "      <td>Common</td>\n",
       "      <td>Breeder</td>\n",
       "      <td>NaN</td>\n",
       "      <td>ACAD</td>\n",
       "      <td>ME</td>\n",
       "      <td>47390</td>\n",
       "      <td>44.35</td>\n",
       "      <td>-68.21</td>\n",
       "    </tr>\n",
       "  </tbody>\n",
       "</table>\n",
       "</div>"
      ],
      "text/plain": [
       "  Species ID             Park Name Category         Order    Family  \\\n",
       "0  ACAD-1000  Acadia National Park   Mammal  Artiodactyla  Cervidae   \n",
       "1  ACAD-1001  Acadia National Park   Mammal  Artiodactyla  Cervidae   \n",
       "2  ACAD-1002  Acadia National Park   Mammal     Carnivora   Canidae   \n",
       "3  ACAD-1003  Acadia National Park   Mammal     Carnivora   Canidae   \n",
       "4  ACAD-1004  Acadia National Park   Mammal     Carnivora   Canidae   \n",
       "\n",
       "          Scientific Name                                       Common Names  \\\n",
       "0             Alces alces                                              Moose   \n",
       "1  Odocoileus virginianus  Northern White-Tailed Deer, Virginia Deer, Whi...   \n",
       "2           Canis latrans                             Coyote, Eastern Coyote   \n",
       "3             Canis lupus        Eastern Timber Wolf, Gray Wolf, Timber Wolf   \n",
       "4           Vulpes vulpes  Black Fox, Cross Fox, Eastern Red Fox, Fox, Re...   \n",
       "\n",
       "  Record Status     Occurrence  Nativeness Abundance Seasonality  \\\n",
       "0      Approved        Present      Native      Rare    Resident   \n",
       "1      Approved        Present      Native  Abundant         NaN   \n",
       "2      Approved        Present  Not Native    Common         NaN   \n",
       "3      Approved  Not Confirmed      Native       NaN         NaN   \n",
       "4      Approved        Present     Unknown    Common     Breeder   \n",
       "\n",
       "  Conservation Status Park Code State  Acres  Latitude  Longitude  \n",
       "0                 NaN      ACAD    ME  47390     44.35     -68.21  \n",
       "1                 NaN      ACAD    ME  47390     44.35     -68.21  \n",
       "2  Species of Concern      ACAD    ME  47390     44.35     -68.21  \n",
       "3          Endangered      ACAD    ME  47390     44.35     -68.21  \n",
       "4                 NaN      ACAD    ME  47390     44.35     -68.21  "
      ]
     },
     "execution_count": 24,
     "metadata": {},
     "output_type": "execute_result"
    }
   ],
   "source": [
    "df3.head()"
   ]
  },
  {
   "cell_type": "code",
   "execution_count": 25,
   "metadata": {},
   "outputs": [
    {
     "data": {
      "text/plain": [
       "(119248, 18)"
      ]
     },
     "execution_count": 25,
     "metadata": {},
     "output_type": "execute_result"
    }
   ],
   "source": [
    "df3.shape"
   ]
  },
  {
   "cell_type": "code",
   "execution_count": 31,
   "metadata": {},
   "outputs": [
    {
     "data": {
      "text/plain": [
       "64701       848\n",
       "93533       853\n",
       "42984       952\n",
       "1750717    1025\n",
       "76519      1048\n",
       "669983     1057\n",
       "70447      1165\n",
       "337598     1223\n",
       "3674530    1225\n",
       "52122      1243\n",
       "35835      1286\n",
       "3372402    1320\n",
       "7523898    1353\n",
       "242756     1389\n",
       "28295      1395\n",
       "571790     1397\n",
       "26606      1416\n",
       "218200     1453\n",
       "46766      1536\n",
       "241904     1566\n",
       "47390      1709\n",
       "172924     1726\n",
       "235625     1743\n",
       "86416      1746\n",
       "146598     1796\n",
       "8323148    1796\n",
       "106372     1797\n",
       "91440      1834\n",
       "249561     1885\n",
       "922651     1948\n",
       "5550       1950\n",
       "3224840    1957\n",
       "865952     1995\n",
       "2619733    2007\n",
       "309995     2030\n",
       "1508538    2084\n",
       "761266     2088\n",
       "801163     2269\n",
       "789745     2294\n",
       "26546      2321\n",
       "52830      2499\n",
       "1013572    2556\n",
       "29094      2580\n",
       "1217403    2622\n",
       "77180      2653\n",
       "32950      3047\n",
       "265828     3152\n",
       "323431     3298\n",
       "504781     3363\n",
       "183224     3760\n",
       "2219791    3966\n",
       "4740912    4439\n",
       "199045     4655\n",
       "112512     6310\n",
       "521490     6623\n",
       "Name: Acres, dtype: int64"
      ]
     },
     "execution_count": 31,
     "metadata": {},
     "output_type": "execute_result"
    }
   ],
   "source": [
    "df3['Acres'].value_counts().sort_values()"
   ]
  },
  {
   "cell_type": "code",
   "execution_count": 36,
   "metadata": {},
   "outputs": [
    {
     "data": {
      "text/html": [
       "<div>\n",
       "<style scoped>\n",
       "    .dataframe tbody tr th:only-of-type {\n",
       "        vertical-align: middle;\n",
       "    }\n",
       "\n",
       "    .dataframe tbody tr th {\n",
       "        vertical-align: top;\n",
       "    }\n",
       "\n",
       "    .dataframe thead th {\n",
       "        text-align: right;\n",
       "    }\n",
       "</style>\n",
       "<table border=\"1\" class=\"dataframe\">\n",
       "  <thead>\n",
       "    <tr style=\"text-align: right;\">\n",
       "      <th></th>\n",
       "      <th>Species ID</th>\n",
       "      <th>Park Name</th>\n",
       "      <th>Category</th>\n",
       "      <th>Order</th>\n",
       "      <th>Family</th>\n",
       "      <th>Scientific Name</th>\n",
       "      <th>Common Names</th>\n",
       "      <th>Record Status</th>\n",
       "      <th>Occurrence</th>\n",
       "      <th>Nativeness</th>\n",
       "      <th>Abundance</th>\n",
       "      <th>Seasonality</th>\n",
       "      <th>Conservation Status</th>\n",
       "      <th>Park Code</th>\n",
       "      <th>State</th>\n",
       "      <th>Acres</th>\n",
       "      <th>Latitude</th>\n",
       "      <th>Longitude</th>\n",
       "    </tr>\n",
       "  </thead>\n",
       "  <tbody>\n",
       "    <tr>\n",
       "      <th>2757</th>\n",
       "      <td>BADL-1000</td>\n",
       "      <td>Badlands National Park</td>\n",
       "      <td>Mammal</td>\n",
       "      <td>Artiodactyla</td>\n",
       "      <td>Antilocapridae</td>\n",
       "      <td>Antilocapra americana</td>\n",
       "      <td>Pronghorn, Pronghorn</td>\n",
       "      <td>Approved</td>\n",
       "      <td>Present</td>\n",
       "      <td>Native</td>\n",
       "      <td>Common</td>\n",
       "      <td>Breeder</td>\n",
       "      <td>NaN</td>\n",
       "      <td>BADL</td>\n",
       "      <td>SD</td>\n",
       "      <td>242756</td>\n",
       "      <td>43.75</td>\n",
       "      <td>-102.5</td>\n",
       "    </tr>\n",
       "    <tr>\n",
       "      <th>2758</th>\n",
       "      <td>BADL-1001</td>\n",
       "      <td>Badlands National Park</td>\n",
       "      <td>Mammal</td>\n",
       "      <td>Artiodactyla</td>\n",
       "      <td>Bovidae</td>\n",
       "      <td>Bison bison</td>\n",
       "      <td>American Bison, American Bison, Bison</td>\n",
       "      <td>Approved</td>\n",
       "      <td>Present</td>\n",
       "      <td>Native</td>\n",
       "      <td>Common</td>\n",
       "      <td>Breeder</td>\n",
       "      <td>NaN</td>\n",
       "      <td>BADL</td>\n",
       "      <td>SD</td>\n",
       "      <td>242756</td>\n",
       "      <td>43.75</td>\n",
       "      <td>-102.5</td>\n",
       "    </tr>\n",
       "    <tr>\n",
       "      <th>2759</th>\n",
       "      <td>BADL-1002</td>\n",
       "      <td>Badlands National Park</td>\n",
       "      <td>Mammal</td>\n",
       "      <td>Artiodactyla</td>\n",
       "      <td>Bovidae</td>\n",
       "      <td>Ovis canadensis</td>\n",
       "      <td>Bighorn Sheep</td>\n",
       "      <td>Approved</td>\n",
       "      <td>Present</td>\n",
       "      <td>Native</td>\n",
       "      <td>Common</td>\n",
       "      <td>Breeder</td>\n",
       "      <td>Species of Concern</td>\n",
       "      <td>BADL</td>\n",
       "      <td>SD</td>\n",
       "      <td>242756</td>\n",
       "      <td>43.75</td>\n",
       "      <td>-102.5</td>\n",
       "    </tr>\n",
       "    <tr>\n",
       "      <th>2760</th>\n",
       "      <td>BADL-1003</td>\n",
       "      <td>Badlands National Park</td>\n",
       "      <td>Mammal</td>\n",
       "      <td>Artiodactyla</td>\n",
       "      <td>Cervidae</td>\n",
       "      <td>Cervus elaphus</td>\n",
       "      <td>Elk, Red Deer (See Comments), Wapiti, Wapiti O...</td>\n",
       "      <td>Approved</td>\n",
       "      <td>Not Confirmed</td>\n",
       "      <td>Native</td>\n",
       "      <td>NaN</td>\n",
       "      <td>NaN</td>\n",
       "      <td>NaN</td>\n",
       "      <td>BADL</td>\n",
       "      <td>SD</td>\n",
       "      <td>242756</td>\n",
       "      <td>43.75</td>\n",
       "      <td>-102.5</td>\n",
       "    </tr>\n",
       "    <tr>\n",
       "      <th>2761</th>\n",
       "      <td>BADL-1004</td>\n",
       "      <td>Badlands National Park</td>\n",
       "      <td>Mammal</td>\n",
       "      <td>Artiodactyla</td>\n",
       "      <td>Cervidae</td>\n",
       "      <td>Odocoileus hemionus</td>\n",
       "      <td>Mule Deer</td>\n",
       "      <td>Approved</td>\n",
       "      <td>Present</td>\n",
       "      <td>Native</td>\n",
       "      <td>Common</td>\n",
       "      <td>Breeder</td>\n",
       "      <td>NaN</td>\n",
       "      <td>BADL</td>\n",
       "      <td>SD</td>\n",
       "      <td>242756</td>\n",
       "      <td>43.75</td>\n",
       "      <td>-102.5</td>\n",
       "    </tr>\n",
       "  </tbody>\n",
       "</table>\n",
       "</div>"
      ],
      "text/plain": [
       "     Species ID               Park Name Category         Order  \\\n",
       "2757  BADL-1000  Badlands National Park   Mammal  Artiodactyla   \n",
       "2758  BADL-1001  Badlands National Park   Mammal  Artiodactyla   \n",
       "2759  BADL-1002  Badlands National Park   Mammal  Artiodactyla   \n",
       "2760  BADL-1003  Badlands National Park   Mammal  Artiodactyla   \n",
       "2761  BADL-1004  Badlands National Park   Mammal  Artiodactyla   \n",
       "\n",
       "              Family        Scientific Name  \\\n",
       "2757  Antilocapridae  Antilocapra americana   \n",
       "2758         Bovidae            Bison bison   \n",
       "2759         Bovidae        Ovis canadensis   \n",
       "2760        Cervidae         Cervus elaphus   \n",
       "2761        Cervidae    Odocoileus hemionus   \n",
       "\n",
       "                                           Common Names Record Status  \\\n",
       "2757                               Pronghorn, Pronghorn      Approved   \n",
       "2758              American Bison, American Bison, Bison      Approved   \n",
       "2759                                      Bighorn Sheep      Approved   \n",
       "2760  Elk, Red Deer (See Comments), Wapiti, Wapiti O...      Approved   \n",
       "2761                                          Mule Deer      Approved   \n",
       "\n",
       "         Occurrence Nativeness Abundance Seasonality Conservation Status  \\\n",
       "2757        Present     Native    Common     Breeder                 NaN   \n",
       "2758        Present     Native    Common     Breeder                 NaN   \n",
       "2759        Present     Native    Common     Breeder  Species of Concern   \n",
       "2760  Not Confirmed     Native       NaN         NaN                 NaN   \n",
       "2761        Present     Native    Common     Breeder                 NaN   \n",
       "\n",
       "     Park Code State   Acres  Latitude  Longitude  \n",
       "2757      BADL    SD  242756     43.75     -102.5  \n",
       "2758      BADL    SD  242756     43.75     -102.5  \n",
       "2759      BADL    SD  242756     43.75     -102.5  \n",
       "2760      BADL    SD  242756     43.75     -102.5  \n",
       "2761      BADL    SD  242756     43.75     -102.5  "
      ]
     },
     "execution_count": 36,
     "metadata": {},
     "output_type": "execute_result"
    }
   ],
   "source": [
    "df_parks= df3[df3['Acres']>200000]\n",
    "df_parks.head()"
   ]
  },
  {
   "cell_type": "code",
   "execution_count": 37,
   "metadata": {},
   "outputs": [
    {
     "data": {
      "text/plain": [
       "array(['Badlands National Park', 'Big Bend National Park',\n",
       "       'Canyonlands National Park', 'Capitol Reef National Park',\n",
       "       'Channel Islands National Park',\n",
       "       'Denali National Park and Preserve', 'Death Valley National Park',\n",
       "       'Everglades National Park',\n",
       "       'Gates Of The Arctic National Park and Preserve',\n",
       "       'Glacier National Park', 'Glacier Bay National Park and Preserve',\n",
       "       'Grand Canyon National Park',\n",
       "       'Great Smoky Mountains National Park', 'Grand Teton National Park',\n",
       "       'Hawaii Volcanoes National Park', 'Isle Royale National Park',\n",
       "       'Joshua Tree National Park', 'Katmai National Park and Preserve',\n",
       "       'Kenai Fjords National Park', 'Kobuk Valley National Park',\n",
       "       'Lake Clark National Park and Preserve',\n",
       "       'Mount Rainier National Park', 'North Cascades National Park',\n",
       "       'Olympic National Park', 'Rocky Mountain National Park',\n",
       "       'Sequoia and Kings Canyon National Parks',\n",
       "       'Voyageurs National Park',\n",
       "       'Wrangell - St Elias National Park and Preserve',\n",
       "       'Yellowstone National Park', 'Yosemite National Park'],\n",
       "      dtype=object)"
      ]
     },
     "execution_count": 37,
     "metadata": {},
     "output_type": "execute_result"
    }
   ],
   "source": [
    "df_parks['Park Name'].unique()"
   ]
  },
  {
   "cell_type": "code",
   "execution_count": 27,
   "metadata": {},
   "outputs": [
    {
     "data": {
      "image/png": "[encoded data removed]",
      "text/plain": [
       "<Figure size 720x576 with 1 Axes>"
      ]
     },
     "metadata": {
      "needs_background": "light"
     },
     "output_type": "display_data"
    }
   ],
   "source": [
    "sns.countplot(x='Category', data =df3, hue='Park Name');"
   ]
  }
 ],
 "metadata": {
  "kernelspec": {
   "display_name": "Python 3.9.7 ('base')",
   "language": "python",
   "name": "python3"
  },
  "language_info": {
   "codemirror_mode": {
    "name": "ipython",
    "version": 3
   },
   "file_extension": ".py",
   "mimetype": "text/x-python",
   "name": "python",
   "nbconvert_exporter": "python",
   "pygments_lexer": "ipython3",
   "version": "3.9.7"
  },
  "orig_nbformat": 4,
  "vscode": {
   "interpreter": {
    "hash": "6be5d780ee9b0e6fe20ff9090f4981b24f52f07297829e94136e87c5137905e3"
   }
  }
 },
 "nbformat": 4,
 "nbformat_minor": 2
}
